{
 "cells": [
  {
   "cell_type": "markdown",
   "metadata": {},
   "source": [
    "### Linear keras models"
   ]
  },
  {
   "cell_type": "code",
   "execution_count": 1,
   "metadata": {
    "collapsed": true
   },
   "outputs": [],
   "source": [
    "import numpy as np"
   ]
  },
  {
   "cell_type": "code",
   "execution_count": 10,
   "metadata": {},
   "outputs": [
    {
     "name": "stderr",
     "output_type": "stream",
     "text": [
      "Using Theano backend.\n"
     ]
    }
   ],
   "source": [
    "import keras"
   ]
  },
  {
   "cell_type": "code",
   "execution_count": 32,
   "metadata": {},
   "outputs": [],
   "source": [
    "x = np.random.random(size=(20000, 2))\n",
    "y = np.dot(x, [3, 7]) + 5"
   ]
  },
  {
   "cell_type": "code",
   "execution_count": 33,
   "metadata": {},
   "outputs": [
    {
     "data": {
      "text/plain": [
       "(array([[ 0.92033077,  0.38067651],\n",
       "        [ 0.43781992,  0.10185756],\n",
       "        [ 0.71664368,  0.9708379 ],\n",
       "        [ 0.88976321,  0.66166527],\n",
       "        [ 0.70007266,  0.00812313]]),\n",
       " array([ 10.42572785,   7.0264627 ,  13.94579634,  12.30094652,   7.15707992]))"
      ]
     },
     "execution_count": 33,
     "metadata": {},
     "output_type": "execute_result"
    }
   ],
   "source": [
    "x[:5], y[:5]"
   ]
  },
  {
   "cell_type": "code",
   "execution_count": 34,
   "metadata": {},
   "outputs": [],
   "source": [
    "main_layer = keras.layers.core.Dense(output_dim=1, input_shape=(2,))\n",
    "\n",
    "lin_model = keras.models.Sequential()\n",
    "lin_model.add(main_layer)"
   ]
  },
  {
   "cell_type": "code",
   "execution_count": 35,
   "metadata": {},
   "outputs": [
    {
     "name": "stdout",
     "output_type": "stream",
     "text": [
      "____________________________________________________________________________________________________\n",
      "Layer (type)                     Output Shape          Param #     Connected to                     \n",
      "====================================================================================================\n",
      "dense_3 (Dense)                  (None, 1)             3           dense_input_2[0][0]              \n",
      "====================================================================================================\n",
      "Total params: 3\n",
      "____________________________________________________________________________________________________\n"
     ]
    }
   ],
   "source": [
    "lin_model.summary()"
   ]
  },
  {
   "cell_type": "code",
   "execution_count": 36,
   "metadata": {
    "collapsed": true
   },
   "outputs": [],
   "source": [
    "lin_model.compile(optimizer=keras.optimizers.SGD(lr=0.1), \n",
    "                  loss='mse')"
   ]
  },
  {
   "cell_type": "code",
   "execution_count": 37,
   "metadata": {},
   "outputs": [
    {
     "name": "stdout",
     "output_type": "stream",
     "text": [
      "18400/20000 [==========================>...] - ETA: 0s"
     ]
    },
    {
     "data": {
      "text/plain": [
       "104.33645025634766"
      ]
     },
     "execution_count": 37,
     "metadata": {},
     "output_type": "execute_result"
    }
   ],
   "source": [
    "# error before fitting\n",
    "lin_model.evaluate(x,y)"
   ]
  },
  {
   "cell_type": "code",
   "execution_count": 38,
   "metadata": {},
   "outputs": [
    {
     "name": "stdout",
     "output_type": "stream",
     "text": [
      "Epoch 1/20\n",
      "20000/20000 [==============================] - 0s - loss: 2.4341     \n",
      "Epoch 2/20\n",
      "20000/20000 [==============================] - 0s - loss: 0.0284     \n",
      "Epoch 3/20\n",
      "20000/20000 [==============================] - 0s - loss: 0.0023     \n",
      "Epoch 4/20\n",
      "20000/20000 [==============================] - 0s - loss: 2.2943e-04     \n",
      "Epoch 5/20\n",
      "20000/20000 [==============================] - 0s - loss: 2.4158e-05     \n",
      "Epoch 6/20\n",
      "20000/20000 [==============================] - 0s - loss: 2.6181e-06     \n",
      "Epoch 7/20\n",
      "20000/20000 [==============================] - 0s - loss: 2.8641e-07     \n",
      "Epoch 8/20\n",
      "20000/20000 [==============================] - 0s - loss: 3.1375e-08     \n",
      "Epoch 9/20\n",
      "20000/20000 [==============================] - 0s - loss: 3.4604e-09     \n",
      "Epoch 10/20\n",
      "20000/20000 [==============================] - 0s - loss: 3.7764e-10     \n",
      "Epoch 11/20\n",
      "20000/20000 [==============================] - 0s - loss: 4.4837e-11     \n",
      "Epoch 12/20\n",
      "20000/20000 [==============================] - 0s - loss: 1.9158e-11     \n",
      "Epoch 13/20\n",
      "20000/20000 [==============================] - 0s - loss: 1.5361e-11     \n",
      "Epoch 14/20\n",
      "20000/20000 [==============================] - 0s - loss: 1.3651e-11     \n",
      "Epoch 15/20\n",
      "20000/20000 [==============================] - 0s - loss: 1.1703e-11     \n",
      "Epoch 16/20\n",
      "20000/20000 [==============================] - 0s - loss: 1.1465e-11     \n",
      "Epoch 17/20\n",
      "20000/20000 [==============================] - 0s - loss: 1.1465e-11     \n",
      "Epoch 18/20\n",
      "20000/20000 [==============================] - 0s - loss: 1.1465e-11     \n",
      "Epoch 19/20\n",
      "20000/20000 [==============================] - 0s - loss: 1.1465e-11     \n",
      "Epoch 20/20\n",
      "20000/20000 [==============================] - 0s - loss: 1.1465e-11     \n"
     ]
    }
   ],
   "source": [
    "lin_model.fit(x, y, nb_epoch=20, batch_size=200, verbose=1);"
   ]
  },
  {
   "cell_type": "code",
   "execution_count": 39,
   "metadata": {},
   "outputs": [
    {
     "name": "stdout",
     "output_type": "stream",
     "text": [
      "18784/20000 [===========================>..] - ETA: 0s"
     ]
    },
    {
     "data": {
      "text/plain": [
       "1.1465260740806116e-11"
      ]
     },
     "execution_count": 39,
     "metadata": {},
     "output_type": "execute_result"
    }
   ],
   "source": [
    "# error after fitting\n",
    "lin_model.evaluate(x,y)"
   ]
  },
  {
   "cell_type": "code",
   "execution_count": 40,
   "metadata": {},
   "outputs": [
    {
     "data": {
      "text/plain": [
       "[array([[ 2.99999523],\n",
       "        [ 6.99998951]], dtype=float32), array([ 5.00000811], dtype=float32)]"
      ]
     },
     "execution_count": 40,
     "metadata": {},
     "output_type": "execute_result"
    }
   ],
   "source": [
    "lin_model.get_weights()"
   ]
  },
  {
   "cell_type": "markdown",
   "metadata": {},
   "source": [
    "## Using vgg16 prediction vectors directly"
   ]
  },
  {
   "cell_type": "code",
   "execution_count": null,
   "metadata": {
    "collapsed": true
   },
   "outputs": [],
   "source": [
    "import bcolz"
   ]
  },
  {
   "cell_type": "code",
   "execution_count": 49,
   "metadata": {
    "collapsed": true
   },
   "outputs": [],
   "source": [
    "import vgg16\n",
    "import utils"
   ]
  },
  {
   "cell_type": "code",
   "execution_count": 66,
   "metadata": {
    "collapsed": true
   },
   "outputs": [],
   "source": [
    "path = 'data/dogscats/'"
   ]
  },
  {
   "cell_type": "code",
   "execution_count": 43,
   "metadata": {
    "collapsed": true
   },
   "outputs": [],
   "source": [
    "batch_size = 100"
   ]
  },
  {
   "cell_type": "code",
   "execution_count": 44,
   "metadata": {
    "collapsed": true
   },
   "outputs": [],
   "source": [
    "import vgg16\n",
    "vgg = vgg16.Vgg16()"
   ]
  },
  {
   "cell_type": "code",
   "execution_count": 67,
   "metadata": {},
   "outputs": [
    {
     "name": "stdout",
     "output_type": "stream",
     "text": [
      "Found 25000 images belonging to 2 classes.\n",
      "Found 2000 images belonging to 2 classes.\n"
     ]
    }
   ],
   "source": [
    "train_batches = utils.get_batches(path+'train', shuffle=False, batch_size=1)\n",
    "valid_batches = utils.get_batches(path+'valid', shuffle=False, batch_size=1)"
   ]
  },
  {
   "cell_type": "code",
   "execution_count": null,
   "metadata": {},
   "outputs": [
    {
     "name": "stdout",
     "output_type": "stream",
     "text": [
      "Found 25000 images belonging to 2 classes.\n"
     ]
    }
   ],
   "source": [
    "train_data = utils.get_data(path+'train')\n",
    "valid_data = utils.get_data(path+'valid')"
   ]
  },
  {
   "cell_type": "code",
   "execution_count": null,
   "metadata": {
    "collapsed": true
   },
   "outputs": [],
   "source": [
    "def save_array(fname, arr):\n",
    "    c = bcolz.carray(arr, rootdir=fname, mode='w')\n",
    "    c.flush()\n",
    "    \n",
    "def load_array(fname):\n",
    "    return bcolz.open(fname)[:]"
   ]
  },
  {
   "cell_type": "code",
   "execution_count": null,
   "metadata": {
    "collapsed": true
   },
   "outputs": [],
   "source": []
  }
 ],
 "metadata": {
  "kernelspec": {
   "display_name": "Python [default]",
   "language": "python",
   "name": "python2"
  },
  "language_info": {
   "codemirror_mode": {
    "name": "ipython",
    "version": 2
   },
   "file_extension": ".py",
   "mimetype": "text/x-python",
   "name": "python",
   "nbconvert_exporter": "python",
   "pygments_lexer": "ipython2",
   "version": "2.7.13"
  }
 },
 "nbformat": 4,
 "nbformat_minor": 2
}
