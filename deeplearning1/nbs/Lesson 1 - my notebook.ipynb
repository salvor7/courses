{
 "cells": [
  {
   "cell_type": "code",
   "execution_count": 1,
   "metadata": {
    "collapsed": true
   },
   "outputs": [],
   "source": [
    "from os.path import join"
   ]
  },
  {
   "cell_type": "code",
   "execution_count": 2,
   "metadata": {
    "collapsed": true
   },
   "outputs": [],
   "source": [
    "import csv"
   ]
  },
  {
   "cell_type": "code",
   "execution_count": 3,
   "metadata": {
    "collapsed": true
   },
   "outputs": [],
   "source": [
    "import numpy as np"
   ]
  },
  {
   "cell_type": "code",
   "execution_count": 4,
   "metadata": {
    "collapsed": false
   },
   "outputs": [
    {
     "name": "stderr",
     "output_type": "stream",
     "text": [
      "Using Theano backend.\n"
     ]
    }
   ],
   "source": [
    "import utils"
   ]
  },
  {
   "cell_type": "code",
   "execution_count": 5,
   "metadata": {
    "collapsed": true
   },
   "outputs": [],
   "source": [
    "import vgg16; reload(vgg16)\n",
    "from vgg16 import Vgg16"
   ]
  },
  {
   "cell_type": "code",
   "execution_count": 10,
   "metadata": {
    "collapsed": true
   },
   "outputs": [],
   "source": [
    "path = join('data', 'dogscats')\n",
    "path = join('data', 'dogscats', 'sample')"
   ]
  },
  {
   "cell_type": "code",
   "execution_count": 7,
   "metadata": {
    "collapsed": true
   },
   "outputs": [],
   "source": [
    "batch_size = 64"
   ]
  },
  {
   "cell_type": "code",
   "execution_count": 8,
   "metadata": {
    "collapsed": false
   },
   "outputs": [
    {
     "data": {
      "text/plain": [
       "<vgg16.Vgg16 instance at 0x7f574ceed1b8>"
      ]
     },
     "execution_count": 8,
     "metadata": {},
     "output_type": "execute_result"
    }
   ],
   "source": [
    "vgg = Vgg16()\n",
    "vgg"
   ]
  },
  {
   "cell_type": "code",
   "execution_count": 11,
   "metadata": {
    "collapsed": false
   },
   "outputs": [
    {
     "name": "stdout",
     "output_type": "stream",
     "text": [
      "Found 200 images belonging to 2 classes.\n"
     ]
    },
    {
     "data": {
      "text/plain": [
       "<keras.preprocessing.image.DirectoryIterator at 0x7f5748fd7150>"
      ]
     },
     "execution_count": 11,
     "metadata": {},
     "output_type": "execute_result"
    }
   ],
   "source": [
    "batches = vgg.get_batches(join(path, 'train'), batch_size=batch_size)\n",
    "batches"
   ]
  },
  {
   "cell_type": "code",
   "execution_count": 12,
   "metadata": {
    "collapsed": false
   },
   "outputs": [
    {
     "name": "stdout",
     "output_type": "stream",
     "text": [
      "Found 200 images belonging to 2 classes.\n"
     ]
    },
    {
     "data": {
      "text/plain": [
       "<keras.preprocessing.image.DirectoryIterator at 0x7f5748fd7950>"
      ]
     },
     "execution_count": 12,
     "metadata": {},
     "output_type": "execute_result"
    }
   ],
   "source": [
    "validations = vgg.get_batches(join(path, 'valid'), batch_size=batch_size*2)\n",
    "validations"
   ]
  },
  {
   "cell_type": "code",
   "execution_count": 13,
   "metadata": {
    "collapsed": false
   },
   "outputs": [],
   "source": [
    "vgg.finetune(batches)"
   ]
  },
  {
   "cell_type": "code",
   "execution_count": 18,
   "metadata": {
    "collapsed": false
   },
   "outputs": [
    {
     "name": "stdout",
     "output_type": "stream",
     "text": [
      "Epoch 1/1\n",
      "200/200 [==============================] - 119s - loss: 0.2800 - acc: 0.8850 - val_loss: 0.1341 - val_acc: 0.9300\n"
     ]
    }
   ],
   "source": [
    "vgg.fit(batches, validations, nb_epoch=1)"
   ]
  },
  {
   "cell_type": "code",
   "execution_count": 20,
   "metadata": {
    "collapsed": false
   },
   "outputs": [
    {
     "name": "stdout",
     "output_type": "stream",
     "text": [
      "Found 200 images belonging to 1 classes.\n"
     ]
    }
   ],
   "source": [
    "test_batches, predictions = vgg.test(join(path, 'test'))"
   ]
  },
  {
   "cell_type": "code",
   "execution_count": 21,
   "metadata": {
    "collapsed": false
   },
   "outputs": [],
   "source": [
    "predictions = np.clip(predictions[:,1], 0.01, 0.99)"
   ]
  },
  {
   "cell_type": "code",
   "execution_count": 22,
   "metadata": {
    "collapsed": false
   },
   "outputs": [
    {
     "data": {
      "text/plain": [
       "array([ 0.9234,  0.1877,  0.01  ,  0.99  ,  0.01  ,  0.2077,  0.9869,  0.99  ,  0.0132,  0.4418,\n",
       "        0.01  ,  0.01  ,  0.99  ,  0.953 ,  0.99  ,  0.1547,  0.9415,  0.99  ,  0.0124,  0.01  ,\n",
       "        0.396 ,  0.961 ,  0.01  ,  0.99  ,  0.01  ,  0.4451,  0.5074,  0.99  ,  0.9785,  0.1471,\n",
       "        0.0516,  0.99  ,  0.01  ,  0.8689,  0.01  ,  0.01  ,  0.01  ,  0.99  ,  0.0247,  0.01  ,\n",
       "        0.3916,  0.986 ,  0.99  ,  0.0321,  0.01  ,  0.99  ,  0.01  ,  0.01  ,  0.01  ,  0.9812,\n",
       "        0.01  ,  0.0836,  0.01  ,  0.13  ,  0.99  ,  0.99  ,  0.99  ,  0.01  ,  0.99  ,  0.01  ,\n",
       "        0.01  ,  0.0484,  0.01  ,  0.9294,  0.1105,  0.99  ,  0.99  ,  0.99  ,  0.937 ,  0.99  ,\n",
       "        0.01  ,  0.99  ,  0.01  ,  0.99  ,  0.01  ,  0.9534,  0.99  ,  0.01  ,  0.99  ,  0.9816,\n",
       "        0.5845,  0.01  ,  0.8569,  0.9082,  0.0779,  0.0139,  0.99  ,  0.9431,  0.0729,  0.2801,\n",
       "        0.01  ,  0.1173,  0.99  ,  0.99  ,  0.01  ,  0.0646,  0.99  ,  0.01  ,  0.99  ,  0.99  ,\n",
       "        0.99  ,  0.01  ,  0.6572,  0.01  ,  0.01  ,  0.01  ,  0.0246,  0.989 ,  0.01  ,  0.9807,\n",
       "        0.99  ,  0.01  ,  0.0198,  0.4202,  0.99  ,  0.0344,  0.99  ,  0.268 ,  0.9206,  0.99  ,\n",
       "        0.1633,  0.0318,  0.99  ,  0.99  ,  0.0337,  0.9801,  0.01  ,  0.01  ,  0.99  ,  0.7447,\n",
       "        0.99  ,  0.9747,  0.99  ,  0.01  ,  0.01  ,  0.01  ,  0.99  ,  0.01  ,  0.01  ,  0.99  ,\n",
       "        0.0704,  0.0324,  0.99  ,  0.9768,  0.927 ,  0.99  ,  0.5426,  0.99  ,  0.01  ,  0.0338,\n",
       "        0.0294,  0.99  ,  0.0581,  0.99  ,  0.1588,  0.013 ,  0.01  ,  0.9662,  0.9819,  0.01  ,\n",
       "        0.956 ,  0.9763,  0.0155,  0.1621,  0.99  ,  0.99  ,  0.8666,  0.3579,  0.99  ,  0.99  ,\n",
       "        0.0204,  0.99  ,  0.018 ,  0.01  ,  0.99  ,  0.01  ,  0.99  ,  0.01  ,  0.99  ,  0.9394,\n",
       "        0.01  ,  0.01  ,  0.01  ,  0.01  ,  0.99  ,  0.01  ,  0.99  ,  0.0146,  0.8754,  0.5591,\n",
       "        0.99  ,  0.99  ,  0.9827,  0.01  ,  0.989 ,  0.01  ,  0.99  ,  0.1247,  0.99  ,  0.01  ], dtype=float32)"
      ]
     },
     "execution_count": 22,
     "metadata": {},
     "output_type": "execute_result"
    }
   ],
   "source": [
    "predictions"
   ]
  },
  {
   "cell_type": "code",
   "execution_count": 23,
   "metadata": {
    "collapsed": false
   },
   "outputs": [
    {
     "data": {
      "text/plain": [
       "['unknown/2719.jpg',\n",
       " 'unknown/5086.jpg',\n",
       " 'unknown/4532.jpg',\n",
       " 'unknown/731.jpg',\n",
       " 'unknown/3476.jpg',\n",
       " 'unknown/4696.jpg',\n",
       " 'unknown/307.jpg',\n",
       " 'unknown/9515.jpg',\n",
       " 'unknown/5329.jpg',\n",
       " 'unknown/10153.jpg']"
      ]
     },
     "execution_count": 23,
     "metadata": {},
     "output_type": "execute_result"
    }
   ],
   "source": [
    "test_batches.filenames[:10]"
   ]
  },
  {
   "cell_type": "code",
   "execution_count": 24,
   "metadata": {
    "collapsed": true
   },
   "outputs": [],
   "source": [
    "submission_rows = [ (int(filename.replace('unknown/', '').replace('.jpg', '')),\n",
    "                     predic\n",
    "                     )\n",
    "        for predic, filename in zip(predictions, test_batches.filenames)\n",
    "]\n",
    "\n",
    "submission_rows.sort()"
   ]
  },
  {
   "cell_type": "code",
   "execution_count": 25,
   "metadata": {
    "collapsed": false
   },
   "outputs": [],
   "source": [
    "with open(join(path, 'submission.csv'), 'w') as submission_file:\n",
    "    writer = csv.writer(submission_file)\n",
    "    writer.writerow(('id', 'label'))\n",
    "    for id_, label in submission_rows:\n",
    "        writer.writerow((id_, label))"
   ]
  },
  {
   "cell_type": "code",
   "execution_count": null,
   "metadata": {
    "collapsed": true
   },
   "outputs": [],
   "source": []
  }
 ],
 "metadata": {
  "kernelspec": {
   "display_name": "Python [conda root]",
   "language": "python",
   "name": "conda-root-py"
  },
  "language_info": {
   "codemirror_mode": {
    "name": "ipython",
    "version": 2
   },
   "file_extension": ".py",
   "mimetype": "text/x-python",
   "name": "python",
   "nbconvert_exporter": "python",
   "pygments_lexer": "ipython2",
   "version": "2.7.12"
  }
 },
 "nbformat": 4,
 "nbformat_minor": 1
}
