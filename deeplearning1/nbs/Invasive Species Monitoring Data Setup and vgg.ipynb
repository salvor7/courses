{
 "cells": [
  {
   "cell_type": "markdown",
   "metadata": {},
   "source": [
    "## Make the folder structure"
   ]
  },
  {
   "cell_type": "code",
   "execution_count": 7,
   "metadata": {
    "collapsed": true
   },
   "outputs": [],
   "source": [
    "import os"
   ]
  },
  {
   "cell_type": "markdown",
   "metadata": {},
   "source": [
    "This assumes we are in the deeplearning1/nbs folder of the fastai course. "
   ]
  },
  {
   "cell_type": "code",
   "execution_count": 6,
   "metadata": {
    "collapsed": true
   },
   "outputs": [],
   "source": [
    "def make_dir(folder, cd=True):\n",
    "    \"\"\"Makes folder if it doesn't exist\n",
    "    \n",
    "    Checks if we are already below the folder.\n",
    "    If not, the folder is created, and we change into it.\n",
    "    This is an idempotent operation, so the notebook can be run as a whole.\n",
    "    \"\"\"\n",
    "    while True:\n",
    "        try:\n",
    "            curr_path = os.getcwd()\n",
    "        except OSError:\n",
    "            os.chdir('..')\n",
    "        else:\n",
    "            break\n",
    "        \n",
    "    if folder not in curr_path.split('/'):\n",
    "        !mkdir $folder\n",
    "        if cd:\n",
    "            os.chdir(folder)"
   ]
  },
  {
   "cell_type": "markdown",
   "metadata": {},
   "source": [
    "### Desired Folder structure\n",
    "\n",
    "```\n",
    "data  \n",
    "    invasive\n",
    "        test\n",
    "        train  \n",
    "            inva  \n",
    "            not  \n",
    "        valid  \n",
    "            inva  \n",
    "            not  \n",
    "```"
   ]
  },
  {
   "cell_type": "code",
   "execution_count": 8,
   "metadata": {
    "collapsed": false
   },
   "outputs": [
    {
     "name": "stdout",
     "output_type": "stream",
     "text": [
      "mkdir: cannot create directory ‘data’: File exists\n",
      "mkdir: cannot create directory ‘invasive’: File exists\n",
      "mkdir: cannot create directory ‘test’: File exists\n",
      "mkdir: cannot create directory ‘train’: File exists\n",
      "mkdir: cannot create directory ‘inva’: File exists\n",
      "mkdir: cannot create directory ‘not’: File exists\n",
      "mkdir: cannot create directory ‘valid’: File exists\n",
      "mkdir: cannot create directory ‘inva’: File exists\n",
      "mkdir: cannot create directory ‘not’: File exists\n"
     ]
    }
   ],
   "source": [
    "make_dir('data')\n",
    "make_dir('invasive')\n",
    "make_dir('test', cd=False)\n",
    "make_dir('train')\n",
    "make_dir('inva', cd=False)\n",
    "make_dir('not', cd=False)\n",
    "\n",
    "os.chdir('..')\n",
    "make_dir('valid')\n",
    "make_dir('inva', cd=False)\n",
    "make_dir('not', cd=False)\n",
    "\n",
    "os.chdir('..') # back to invasive folder"
   ]
  },
  {
   "cell_type": "markdown",
   "metadata": {},
   "source": [
    "## Get the competition data from kaggle"
   ]
  },
  {
   "cell_type": "code",
   "execution_count": 9,
   "metadata": {
    "collapsed": false
   },
   "outputs": [
    {
     "data": {
      "text/plain": [
       "'/home/ubuntu/courses/deeplearning1/nbs/data/invasive'"
      ]
     },
     "execution_count": 9,
     "metadata": {},
     "output_type": "execute_result"
    }
   ],
   "source": [
    "os.getcwd()  # I expect to be in the invasive folder"
   ]
  },
  {
   "cell_type": "code",
   "execution_count": 25,
   "metadata": {
    "collapsed": false
   },
   "outputs": [
    {
     "name": "stdout",
     "output_type": "stream",
     "text": [
      "Starting new HTTPS connection (1): www.kaggle.com\n",
      "downloading https://www.kaggle.com/c/invasive-species-monitoring/download/test.7z\n",
      "\n",
      "Starting new HTTPS connection (1): storage.googleapis.com\n",
      "test.7z 100% |#######################################| Time: 0:00:36  31.9 MiB/s\n",
      "downloading https://www.kaggle.com/c/invasive-species-monitoring/download/train.7z\n",
      "\n",
      "train.7z already downloaded !\n",
      "downloading https://www.kaggle.com/c/invasive-species-monitoring/download/train_labels.csv.zip\n",
      "\n",
      "train_labels.csv.zip already downloaded !\n",
      "downloading https://www.kaggle.com/c/invasive-species-monitoring/download/sample_submission.csv.zip\n",
      "\n",
      "sample_submission.csv.zip already downloaded !\n"
     ]
    }
   ],
   "source": [
    "# This assumes that you have joined the competition, and that you have run the command \n",
    "# kg config -u kaggle_username -p kaggle_password\n",
    "\n",
    "!kg download -c invasive-species-monitoring"
   ]
  },
  {
   "cell_type": "code",
   "execution_count": 18,
   "metadata": {
    "collapsed": false
   },
   "outputs": [
    {
     "name": "stdout",
     "output_type": "stream",
     "text": [
      "Reading package lists... Done\n",
      "Building dependency tree       \n",
      "Reading state information... Done\n",
      "Suggested packages:\n",
      "  p7zip-full\n",
      "The following NEW packages will be installed:\n",
      "  p7zip\n",
      "0 upgraded, 1 newly installed, 0 to remove and 139 not upgraded.\n",
      "Need to get 297 kB of archives.\n",
      "After this operation, 992 kB of additional disk space will be used.\n",
      "Get:1 http://us-west-2.ec2.archive.ubuntu.com/ubuntu/ trusty-updates/universe p7zip amd64 9.20.1~dfsg.1-4+deb7u2build0.14.04.1 [297 kB]\n",
      "Fetched 297 kB in 0s (1,006 kB/s)\n",
      "Selecting previously unselected package p7zip.\n",
      "(Reading database ... 56789 files and directories currently installed.)\n",
      "Preparing to unpack .../p7zip_9.20.1~dfsg.1-4+deb7u2build0.14.04.1_amd64.deb ...\n",
      "Unpacking p7zip (9.20.1~dfsg.1-4+deb7u2build0.14.04.1) ...\n",
      "Processing triggers for man-db (2.6.7.1-1ubuntu1) ...\n",
      "Setting up p7zip (9.20.1~dfsg.1-4+deb7u2build0.14.04.1) ...\n"
     ]
    }
   ],
   "source": [
    "!sudo apt-get install p7zip-full"
   ]
  },
  {
   "cell_type": "code",
   "execution_count": 26,
   "metadata": {
    "collapsed": false
   },
   "outputs": [],
   "source": [
    "%%capture\n",
    "!7z x test.7z -aoa\n",
    "!7z x train.7z -aoa\n",
    "!unzip train_labels.csv.zip -o\n",
    "!unzip sample_submission.csv.zip -o "
   ]
  },
  {
   "cell_type": "code",
   "execution_count": 57,
   "metadata": {
    "collapsed": false
   },
   "outputs": [
    {
     "name": "stdout",
     "output_type": "stream",
     "text": [
      "__MACOSX\t\t   test     train.7z\t\t  valid\r\n",
      "sample_submission.csv\t   test.7z  train_labels.csv\r\n",
      "sample_submission.csv.zip  train    train_labels.csv.zip\r\n"
     ]
    }
   ],
   "source": [
    "!ls"
   ]
  },
  {
   "cell_type": "markdown",
   "metadata": {},
   "source": [
    "## Split training data into category subfolders"
   ]
  },
  {
   "cell_type": "code",
   "execution_count": 2,
   "metadata": {
    "collapsed": true
   },
   "outputs": [],
   "source": [
    "import pandas as pd"
   ]
  },
  {
   "cell_type": "code",
   "execution_count": 10,
   "metadata": {
    "collapsed": false
   },
   "outputs": [
    {
     "data": {
      "text/html": [
       "<div>\n",
       "<table border=\"1\" class=\"dataframe\">\n",
       "  <thead>\n",
       "    <tr style=\"text-align: right;\">\n",
       "      <th></th>\n",
       "      <th>name</th>\n",
       "      <th>invasive</th>\n",
       "    </tr>\n",
       "  </thead>\n",
       "  <tbody>\n",
       "    <tr>\n",
       "      <th>0</th>\n",
       "      <td>1</td>\n",
       "      <td>0</td>\n",
       "    </tr>\n",
       "    <tr>\n",
       "      <th>1</th>\n",
       "      <td>2</td>\n",
       "      <td>0</td>\n",
       "    </tr>\n",
       "    <tr>\n",
       "      <th>2</th>\n",
       "      <td>3</td>\n",
       "      <td>1</td>\n",
       "    </tr>\n",
       "    <tr>\n",
       "      <th>3</th>\n",
       "      <td>4</td>\n",
       "      <td>0</td>\n",
       "    </tr>\n",
       "    <tr>\n",
       "      <th>4</th>\n",
       "      <td>5</td>\n",
       "      <td>1</td>\n",
       "    </tr>\n",
       "  </tbody>\n",
       "</table>\n",
       "</div>"
      ],
      "text/plain": [
       "   name  invasive\n",
       "0     1         0\n",
       "1     2         0\n",
       "2     3         1\n",
       "3     4         0\n",
       "4     5         1"
      ]
     },
     "execution_count": 10,
     "metadata": {},
     "output_type": "execute_result"
    }
   ],
   "source": [
    "labels = pd.read_csv('train_labels.csv')\n",
    "labels.head()"
   ]
  },
  {
   "cell_type": "code",
   "execution_count": 37,
   "metadata": {
    "collapsed": false
   },
   "outputs": [
    {
     "data": {
      "text/plain": [
       "['1000.jpg',\n",
       " '1001.jpg',\n",
       " '1002.jpg',\n",
       " '1003.jpg',\n",
       " '1004.jpg',\n",
       " '1005.jpg',\n",
       " '1006.jpg',\n",
       " '1007.jpg',\n",
       " '1008.jpg',\n",
       " '1009.jpg',\n",
       " '100.jpg',\n",
       " '1010.jpg']"
      ]
     },
     "execution_count": 37,
     "metadata": {},
     "output_type": "execute_result"
    }
   ],
   "source": [
    "invasive_files = !ls train\n",
    "invasive_files[:12]"
   ]
  },
  {
   "cell_type": "code",
   "execution_count": 25,
   "metadata": {
    "collapsed": false
   },
   "outputs": [],
   "source": [
    "for number, invasive in labels.itertuples(index=False):\n",
    "    number = str(number)\n",
    "    if invasive:\n",
    "        folder = 'inva'\n",
    "    else:\n",
    "        folder = 'not'\n",
    "    !mv train/'$number'.jpg train/$folder\n"
   ]
  },
  {
   "cell_type": "code",
   "execution_count": 26,
   "metadata": {
    "collapsed": false
   },
   "outputs": [
    {
     "name": "stdout",
     "output_type": "stream",
     "text": [
      "inva  not\r\n"
     ]
    }
   ],
   "source": [
    "!ls train"
   ]
  },
  {
   "cell_type": "markdown",
   "metadata": {},
   "source": [
    "## Make validation sets"
   ]
  },
  {
   "cell_type": "code",
   "execution_count": 55,
   "metadata": {
    "collapsed": false
   },
   "outputs": [],
   "source": [
    "def num_files(folder):\n",
    "    \"\"\"Count the files in a folder\"\"\"\n",
    "    number, = !ls -1q $folder | wc -l\n",
    "    return int(number)"
   ]
  },
  {
   "cell_type": "code",
   "execution_count": 33,
   "metadata": {
    "collapsed": false
   },
   "outputs": [
    {
     "data": {
      "text/plain": [
       "('1448', '847')"
      ]
     },
     "execution_count": 33,
     "metadata": {},
     "output_type": "execute_result"
    }
   ],
   "source": [
    "num_files('train/inva'), num_files('train/not')"
   ]
  },
  {
   "cell_type": "markdown",
   "metadata": {},
   "source": [
    "We'll grab 100 files from each to form the validation set."
   ]
  },
  {
   "cell_type": "code",
   "execution_count": 35,
   "metadata": {
    "collapsed": true
   },
   "outputs": [],
   "source": [
    "validations = 100"
   ]
  },
  {
   "cell_type": "code",
   "execution_count": 50,
   "metadata": {
    "collapsed": true
   },
   "outputs": [],
   "source": [
    "import random"
   ]
  },
  {
   "cell_type": "code",
   "execution_count": 56,
   "metadata": {
    "collapsed": true
   },
   "outputs": [],
   "source": [
    "def create_valid(train_folder, num_valids):\n",
    "    \"\"\"Create a validation set\"\"\"\n",
    "    subfolders = !ls train\n",
    "    for subf in subfolders:\n",
    "        subf_list = !ls train/$subf\n",
    "        subf_count = num_files('valid/'+subf)\n",
    "        if subf_count == 0:\n",
    "            for file_ in random.sample(subf_list, num_valids):\n",
    "                !mv train/$subf/$file_ valid/$subf/$file_\n",
    "        elif subf_count != num_valids:\n",
    "            raise ValueError(' '.join(['Unexpected number files in validation folder.', \n",
    "                               '\\nExpected', str(num_valids), 'Got', str(subf_count)])\n",
    "                    )\n",
    "        print(subf, subf_count)"
   ]
  },
  {
   "cell_type": "code",
   "execution_count": 57,
   "metadata": {
    "collapsed": false
   },
   "outputs": [
    {
     "name": "stdout",
     "output_type": "stream",
     "text": [
      "('inva', 100)\n",
      "('not', 100)\n"
     ]
    }
   ],
   "source": [
    "create_valid('train', validations)"
   ]
  }
 ],
 "metadata": {
  "anaconda-cloud": {},
  "kernelspec": {
   "display_name": "Python [conda root]",
   "language": "python",
   "name": "conda-root-py"
  },
  "language_info": {
   "codemirror_mode": {
    "name": "ipython",
    "version": 2
   },
   "file_extension": ".py",
   "mimetype": "text/x-python",
   "name": "python",
   "nbconvert_exporter": "python",
   "pygments_lexer": "ipython2",
   "version": "2.7.12"
  }
 },
 "nbformat": 4,
 "nbformat_minor": 1
}
