{
 "cells": [
  {
   "cell_type": "code",
   "execution_count": 1,
   "metadata": {
    "collapsed": true
   },
   "outputs": [],
   "source": [
    "import os\n",
    "\n",
    "import random"
   ]
  },
  {
   "cell_type": "markdown",
   "metadata": {},
   "source": [
    "## Get the Kaggle Data\n",
    "\n",
    "### Run the Kaggle CLI tool and collect Cats vs Dogs"
   ]
  },
  {
   "cell_type": "code",
   "execution_count": 2,
   "metadata": {
    "collapsed": false
   },
   "outputs": [
    {
     "name": "stdout",
     "output_type": "stream",
     "text": [
      "mkdir: cannot create directory ‘data’: File exists\n",
      "mkdir: cannot create directory ‘dogscats’: File exists\n"
     ]
    }
   ],
   "source": [
    "if 'data' != os.getcwd().split('/')[-1]:\n",
    "    !mkdir data\n",
    "    os.chdir('data')\n",
    "\n",
    "if 'dogscats' != os.getcwd().split('/')[-1]:\n",
    "    !mkdir dogscats\n",
    "    os.chdir('dogscats')    "
   ]
  },
  {
   "cell_type": "code",
   "execution_count": 3,
   "metadata": {
    "collapsed": false,
    "scrolled": true
   },
   "outputs": [
    {
     "name": "stdout",
     "output_type": "stream",
     "text": [
      "Requirement already satisfied (use --upgrade to upgrade): kaggle-cli in /home/ubuntu/anaconda2/lib/python2.7/site-packages\n",
      "Requirement already satisfied (use --upgrade to upgrade): lxml in /home/ubuntu/anaconda2/lib/python2.7/site-packages (from kaggle-cli)\n",
      "Requirement already satisfied (use --upgrade to upgrade): configparser in /home/ubuntu/anaconda2/lib/python2.7/site-packages (from kaggle-cli)\n",
      "Requirement already satisfied (use --upgrade to upgrade): cliff in /home/ubuntu/anaconda2/lib/python2.7/site-packages (from kaggle-cli)\n",
      "Requirement already satisfied (use --upgrade to upgrade): progressbar2 in /home/ubuntu/anaconda2/lib/python2.7/site-packages (from kaggle-cli)\n",
      "Requirement already satisfied (use --upgrade to upgrade): cssselect in /home/ubuntu/anaconda2/lib/python2.7/site-packages (from kaggle-cli)\n",
      "Requirement already satisfied (use --upgrade to upgrade): MechanicalSoup in /home/ubuntu/anaconda2/lib/python2.7/site-packages (from kaggle-cli)\n",
      "Requirement already satisfied (use --upgrade to upgrade): pbr!=2.1.0,>=2.0.0 in /home/ubuntu/anaconda2/lib/python2.7/site-packages (from cliff->kaggle-cli)\n",
      "Requirement already satisfied (use --upgrade to upgrade): six>=1.9.0 in /home/ubuntu/anaconda2/lib/python2.7/site-packages (from cliff->kaggle-cli)\n",
      "Requirement already satisfied (use --upgrade to upgrade): PrettyTable<0.8,>=0.7.1 in /home/ubuntu/anaconda2/lib/python2.7/site-packages (from cliff->kaggle-cli)\n",
      "Requirement already satisfied (use --upgrade to upgrade): cmd2>=0.6.7 in /home/ubuntu/anaconda2/lib/python2.7/site-packages (from cliff->kaggle-cli)\n",
      "Requirement already satisfied (use --upgrade to upgrade): unicodecsv>=0.8.0; python_version < \"3.0\" in /home/ubuntu/anaconda2/lib/python2.7/site-packages (from cliff->kaggle-cli)\n",
      "Requirement already satisfied (use --upgrade to upgrade): PyYAML>=3.10.0 in /home/ubuntu/anaconda2/lib/python2.7/site-packages (from cliff->kaggle-cli)\n",
      "Requirement already satisfied (use --upgrade to upgrade): pyparsing>=2.1.0 in /home/ubuntu/anaconda2/lib/python2.7/site-packages (from cliff->kaggle-cli)\n",
      "Requirement already satisfied (use --upgrade to upgrade): stevedore>=1.20.0 in /home/ubuntu/anaconda2/lib/python2.7/site-packages (from cliff->kaggle-cli)\n",
      "Requirement already satisfied (use --upgrade to upgrade): python-utils>=2.1.0 in /home/ubuntu/anaconda2/lib/python2.7/site-packages (from progressbar2->kaggle-cli)\n",
      "Requirement already satisfied (use --upgrade to upgrade): beautifulsoup4 in /home/ubuntu/anaconda2/lib/python2.7/site-packages (from MechanicalSoup->kaggle-cli)\n",
      "Requirement already satisfied (use --upgrade to upgrade): requests>=2.0 in /home/ubuntu/anaconda2/lib/python2.7/site-packages (from MechanicalSoup->kaggle-cli)\n",
      "Requirement already satisfied (use --upgrade to upgrade): pyperclip in /home/ubuntu/anaconda2/lib/python2.7/site-packages (from cmd2>=0.6.7->cliff->kaggle-cli)\n",
      "\u001b[33mYou are using pip version 8.1.2, however version 9.0.1 is available.\n",
      "You should consider upgrading via the 'pip install --upgrade pip' command.\u001b[0m\n"
     ]
    }
   ],
   "source": [
    "!pip install kaggle-cli"
   ]
  },
  {
   "cell_type": "code",
   "execution_count": 4,
   "metadata": {
    "collapsed": true
   },
   "outputs": [],
   "source": [
    "# run config for kaggle CLI\n",
    "#!kg config -g -u username -p password -c dogs-vs-cats-redux-kernels-edition"
   ]
  },
  {
   "cell_type": "code",
   "execution_count": 5,
   "metadata": {
    "collapsed": false
   },
   "outputs": [
    {
     "name": "stdout",
     "output_type": "stream",
     "text": [
      "Starting new HTTPS connection (1): www.kaggle.com\n",
      "downloading https://www.kaggle.com/c/imagenet-object-detection-challenge/download/imagenet_object_detection_test.tar.gz\n",
      "\n",
      "Starting new HTTPS connection (1): storage.googleapis.com\n",
      "imagenet_object_detection_test.tar.gz 100% |#########| Time: 0:00:14  30.4 MiB/s\n",
      "downloading https://www.kaggle.com/c/imagenet-object-detection-challenge/download/imagenet_object_detection_train.tar.gz\n",
      "\n",
      "imagenet_object_detection_train.tar.gz   0% |         | ETA: 0:35:51  26.9 MiB/s^CTraceback (most recent call last):\n",
      "  File \"/home/ubuntu/anaconda2/bin/kg\", line 11, in <module>\n",
      "    sys.exit(main())\n",
      "  File \"/home/ubuntu/anaconda2/lib/python2.7/site-packages/kaggle_cli/main.py\", line 21, in main\n",
      "    return app.run(argv)\n",
      "  File \"/home/ubuntu/anaconda2/lib/python2.7/site-packages/cliff/app.py\", line 279, in run\n",
      "    result = self.run_subcommand(remainder)\n",
      "  File \"/home/ubuntu/anaconda2/lib/python2.7/site-packages/cliff/app.py\", line 400, in run_subcommand\n",
      "    result = cmd.run(parsed_args)\n",
      "  File \"/home/ubuntu/anaconda2/lib/python2.7/site-packages/cliff/command.py\", line 137, in run\n",
      "    return_code = self.take_action(parsed_args) or 0\n",
      "  File \"/home/ubuntu/anaconda2/lib/python2.7/site-packages/kaggle_cli/download.py\", line 55, in take_action\n",
      "    self.download_file(browser, url)\n",
      "  File \"/home/ubuntu/anaconda2/lib/python2.7/site-packages/kaggle_cli/download.py\", line 106, in download_file\n",
      "    for chunk in stream.iter_content(chunk_size=1024):\n",
      "  File \"/home/ubuntu/anaconda2/lib/python2.7/site-packages/requests/models.py\", line 676, in generate\n",
      "    for chunk in self.raw.stream(chunk_size, decode_content=True):\n",
      "  File \"/home/ubuntu/anaconda2/lib/python2.7/site-packages/requests/packages/urllib3/response.py\", line 357, in stream\n",
      "    data = self.read(amt=amt, decode_content=decode_content)\n",
      "  File \"/home/ubuntu/anaconda2/lib/python2.7/site-packages/requests/packages/urllib3/response.py\", line 314, in read\n",
      "    data = self._fp.read(amt)\n",
      "  File \"/home/ubuntu/anaconda2/lib/python2.7/httplib.py\", line 612, in read\n",
      "    s = self.fp.read(amt)\n",
      "  File \"/home/ubuntu/anaconda2/lib/python2.7/socket.py\", line 349, in read\n",
      "    buf.seek(0, 2)  # seek end\n",
      "KeyboardInterrupt\n",
      "\n"
     ]
    }
   ],
   "source": [
    "!kg download"
   ]
  },
  {
   "cell_type": "code",
   "execution_count": 6,
   "metadata": {
    "collapsed": false
   },
   "outputs": [],
   "source": [
    "%%capture\n",
    "!unzip train.zip"
   ]
  },
  {
   "cell_type": "code",
   "execution_count": 7,
   "metadata": {
    "collapsed": false,
    "scrolled": true
   },
   "outputs": [],
   "source": [
    "%%capture\n",
    "!unzip test.zip"
   ]
  },
  {
   "cell_type": "markdown",
   "metadata": {},
   "source": [
    "## Split Train into Cats and Dogs"
   ]
  },
  {
   "cell_type": "code",
   "execution_count": 8,
   "metadata": {
    "collapsed": false
   },
   "outputs": [
    {
     "name": "stdout",
     "output_type": "stream",
     "text": [
      "mkdir: cannot create directory ‘train/cats’: No such file or directory\n",
      "mkdir: cannot create directory ‘train/dogs’: No such file or directory\n"
     ]
    }
   ],
   "source": [
    "!mkdir train/cats\n",
    "!mkdir train/dogs"
   ]
  },
  {
   "cell_type": "code",
   "execution_count": 9,
   "metadata": {
    "collapsed": false
   },
   "outputs": [
    {
     "name": "stdout",
     "output_type": "stream",
     "text": [
      "mv: cannot stat ‘train/cat.*’: No such file or directory\r\n"
     ]
    }
   ],
   "source": [
    "!mv train/cat.* train/cats"
   ]
  },
  {
   "cell_type": "code",
   "execution_count": 10,
   "metadata": {
    "collapsed": false
   },
   "outputs": [
    {
     "name": "stdout",
     "output_type": "stream",
     "text": [
      "mv: cannot stat ‘train/dog.*’: No such file or directory\r\n"
     ]
    }
   ],
   "source": [
    "!mv train/dog.* train/dogs"
   ]
  },
  {
   "cell_type": "markdown",
   "metadata": {},
   "source": [
    "## Validation set prep\n",
    "\n",
    "For this, we want to remove a set of $n$ images from the kaggle provided image sets, and set them aside for model and parameter validation. We do this for both the cats and dogs set of images."
   ]
  },
  {
   "cell_type": "code",
   "execution_count": 11,
   "metadata": {
    "collapsed": false
   },
   "outputs": [
    {
     "name": "stdout",
     "output_type": "stream",
     "text": [
      "mkdir: cannot create directory ‘valid’: File exists\r\n"
     ]
    }
   ],
   "source": [
    "!mkdir valid"
   ]
  },
  {
   "cell_type": "code",
   "execution_count": 12,
   "metadata": {
    "collapsed": true
   },
   "outputs": [],
   "source": [
    "n = 1000"
   ]
  },
  {
   "cell_type": "markdown",
   "metadata": {},
   "source": [
    "### Cats"
   ]
  },
  {
   "cell_type": "code",
   "execution_count": 13,
   "metadata": {
    "collapsed": false
   },
   "outputs": [
    {
     "name": "stdout",
     "output_type": "stream",
     "text": [
      "mkdir: cannot create directory ‘valid/cats’: File exists\r\n"
     ]
    }
   ],
   "source": [
    "!mkdir valid/cats"
   ]
  },
  {
   "cell_type": "markdown",
   "metadata": {},
   "source": [
    "List the cat files"
   ]
  },
  {
   "cell_type": "code",
   "execution_count": 14,
   "metadata": {
    "collapsed": false
   },
   "outputs": [
    {
     "data": {
      "text/plain": [
       "['ls: cannot access train/cats: No such file or directory']"
      ]
     },
     "execution_count": 14,
     "metadata": {},
     "output_type": "execute_result"
    }
   ],
   "source": [
    "cats = !ls train/cats\n",
    "cats[:5]"
   ]
  },
  {
   "cell_type": "markdown",
   "metadata": {},
   "source": [
    "Sample the cat files"
   ]
  },
  {
   "cell_type": "code",
   "execution_count": 15,
   "metadata": {
    "collapsed": false
   },
   "outputs": [
    {
     "ename": "ValueError",
     "evalue": "sample larger than population",
     "output_type": "error",
     "traceback": [
      "\u001b[0;31m---------------------------------------------------------------------------\u001b[0m",
      "\u001b[0;31mValueError\u001b[0m                                Traceback (most recent call last)",
      "\u001b[0;32m<ipython-input-15-4fa6622623a3>\u001b[0m in \u001b[0;36m<module>\u001b[0;34m()\u001b[0m\n\u001b[0;32m----> 1\u001b[0;31m \u001b[0mrandom\u001b[0m\u001b[0;34m.\u001b[0m\u001b[0msample\u001b[0m\u001b[0;34m(\u001b[0m\u001b[0mcats\u001b[0m\u001b[0;34m,\u001b[0m \u001b[0mn\u001b[0m\u001b[0;34m)\u001b[0m\u001b[0;34m[\u001b[0m\u001b[0;34m:\u001b[0m\u001b[0;36m5\u001b[0m\u001b[0;34m]\u001b[0m\u001b[0;34m\u001b[0m\u001b[0m\n\u001b[0m",
      "\u001b[0;32m/home/ubuntu/anaconda2/lib/python2.7/random.pyc\u001b[0m in \u001b[0;36msample\u001b[0;34m(self, population, k)\u001b[0m\n\u001b[1;32m    321\u001b[0m         \u001b[0mn\u001b[0m \u001b[0;34m=\u001b[0m \u001b[0mlen\u001b[0m\u001b[0;34m(\u001b[0m\u001b[0mpopulation\u001b[0m\u001b[0;34m)\u001b[0m\u001b[0;34m\u001b[0m\u001b[0m\n\u001b[1;32m    322\u001b[0m         \u001b[0;32mif\u001b[0m \u001b[0;32mnot\u001b[0m \u001b[0;36m0\u001b[0m \u001b[0;34m<=\u001b[0m \u001b[0mk\u001b[0m \u001b[0;34m<=\u001b[0m \u001b[0mn\u001b[0m\u001b[0;34m:\u001b[0m\u001b[0;34m\u001b[0m\u001b[0m\n\u001b[0;32m--> 323\u001b[0;31m             \u001b[0;32mraise\u001b[0m \u001b[0mValueError\u001b[0m\u001b[0;34m(\u001b[0m\u001b[0;34m\"sample larger than population\"\u001b[0m\u001b[0;34m)\u001b[0m\u001b[0;34m\u001b[0m\u001b[0m\n\u001b[0m\u001b[1;32m    324\u001b[0m         \u001b[0mrandom\u001b[0m \u001b[0;34m=\u001b[0m \u001b[0mself\u001b[0m\u001b[0;34m.\u001b[0m\u001b[0mrandom\u001b[0m\u001b[0;34m\u001b[0m\u001b[0m\n\u001b[1;32m    325\u001b[0m         \u001b[0m_int\u001b[0m \u001b[0;34m=\u001b[0m \u001b[0mint\u001b[0m\u001b[0;34m\u001b[0m\u001b[0m\n",
      "\u001b[0;31mValueError\u001b[0m: sample larger than population"
     ]
    }
   ],
   "source": [
    "random.sample(cats, n)[:5]"
   ]
  },
  {
   "cell_type": "markdown",
   "metadata": {},
   "source": [
    "Verify 1000 cat images are in valid/cats. If there aren't, move 1000 over to it."
   ]
  },
  {
   "cell_type": "code",
   "execution_count": null,
   "metadata": {
    "collapsed": false
   },
   "outputs": [],
   "source": [
    "# bash command found here \n",
    "# https://stackoverflow.com/questions/11307257/is-there-a-bash-command-which-counts-files\n",
    "\n",
    "num_cat_images, = !ls -1q valid/cats | wc -l\n",
    "num_cat_images = int(num_cat_images)\n",
    "num_cat_images"
   ]
  },
  {
   "cell_type": "code",
   "execution_count": null,
   "metadata": {
    "collapsed": false
   },
   "outputs": [],
   "source": [
    "if num_cat_images == 0:\n",
    "    for file_ in random.sample(cats, n):\n",
    "        !mv train/cats/$file_ valid/cats/$file_\n",
    "elif num_cat_images != n:\n",
    "    raise ValueError(' '.join(['Unexpected number of cats in valid/cats folder.', \n",
    "                               '\\nExpected', str(n), 'Got', str(num_cat_images)])\n",
    "                    )"
   ]
  },
  {
   "cell_type": "markdown",
   "metadata": {},
   "source": [
    "Verify 1000 are removed from train/cats. The original set of cat images contained 12500 cat images."
   ]
  },
  {
   "cell_type": "code",
   "execution_count": null,
   "metadata": {
    "collapsed": false
   },
   "outputs": [],
   "source": [
    "!ls -1q train/cats/* | wc -l"
   ]
  },
  {
   "cell_type": "markdown",
   "metadata": {},
   "source": [
    "### Dogs"
   ]
  },
  {
   "cell_type": "code",
   "execution_count": null,
   "metadata": {
    "collapsed": true
   },
   "outputs": [],
   "source": [
    "!mkdir valid/dogs"
   ]
  },
  {
   "cell_type": "markdown",
   "metadata": {},
   "source": [
    "List, move and verify dog file moves"
   ]
  },
  {
   "cell_type": "code",
   "execution_count": null,
   "metadata": {
    "collapsed": false
   },
   "outputs": [],
   "source": [
    "num_dog_images, = !ls -1q valid/dogs | wc -l\n",
    "num_dog_images = int(num_dog_images)\n",
    "num_dog_images"
   ]
  },
  {
   "cell_type": "code",
   "execution_count": null,
   "metadata": {
    "collapsed": false
   },
   "outputs": [],
   "source": [
    "dogs = !ls train/dogs\n",
    "\n",
    "if num_dog_images == 0:\n",
    "    for file_ in random.sample(dogs, n):\n",
    "        !mv train/dogs/$file_ valid/dogs/$file_\n",
    "elif num_dog_images != n:\n",
    "    raise ValueError(' '.join(['Unexpected number of dogs in valid/dogs folder.', \n",
    "                               '\\nExpected', str(n), 'Got', str(num_cat_images)])\n",
    "                     )"
   ]
  },
  {
   "cell_type": "code",
   "execution_count": null,
   "metadata": {
    "collapsed": false
   },
   "outputs": [],
   "source": [
    "!ls -1q train/dogs/* | wc -l"
   ]
  },
  {
   "cell_type": "markdown",
   "metadata": {},
   "source": [
    "### Sample set prep\n",
    "\n",
    "For this, we want $m$ images from training, which we use to interatively train our models. The smaller set allows us to move much quicker. These images can just be copied from the training set. "
   ]
  },
  {
   "cell_type": "code",
   "execution_count": null,
   "metadata": {
    "collapsed": false
   },
   "outputs": [],
   "source": [
    "to_make_folders = ['sample', 'sample/train', 'sample/train/cats', 'sample/train/dogs', 'sample/test']\n",
    "\n",
    "for folder in to_make_folders:\n",
    "    !mkdir $folder"
   ]
  },
  {
   "cell_type": "code",
   "execution_count": null,
   "metadata": {
    "collapsed": true
   },
   "outputs": [],
   "source": [
    "m = 100"
   ]
  },
  {
   "cell_type": "code",
   "execution_count": null,
   "metadata": {
    "collapsed": false
   },
   "outputs": [],
   "source": [
    "for animal in ['dogs', 'cats']:\n",
    "    sample_count, = !ls -1q sample/train/$animal | wc -l\n",
    "    train_count, = !ls -1q train/$animal | wc -l\n",
    "    \n",
    "    if int(sample_count) == 0:\n",
    "        animals = !ls train/$animal\n",
    "\n",
    "        for file_ in random.sample(animals, m):\n",
    "            !cp train/$animal/$file_ sample/train/$animal/$file_\n",
    "    elif int(sample_count) != m:\n",
    "        raise ValueError(' '.join(['Unexpected number of', animal, 'in sample folder.', \n",
    "                               '\\nExpected', str(m), 'Got', str(sample_count)])\n",
    "                         )\n",
    "    \n",
    "    print(animal, sample_count, train_count)"
   ]
  },
  {
   "cell_type": "code",
   "execution_count": null,
   "metadata": {
    "collapsed": false
   },
   "outputs": [],
   "source": [
    "sample_test_count, = !ls -1q sample/test | wc -l\n",
    "\n",
    "if int(sample_test_count) == 0:\n",
    "    test_animals = !ls test\n",
    "\n",
    "    for file_ in random.sample(test_animals, 2*m):\n",
    "        !cp test/$file_ sample/test/$file_\n",
    "        \n",
    "elif int(sample_test_count) != 2*m:\n",
    "    raise ValueError(' '.join(['Unexpected number of test images in sample/test folder.', \n",
    "                           '\\nExpected', str(2*m), 'Got', str(sample_test_count)])\n",
    "                     )\n",
    "print(sample_test_count)"
   ]
  }
 ],
 "metadata": {
  "anaconda-cloud": {},
  "kernelspec": {
   "display_name": "Python [default]",
   "language": "python",
   "name": "python2"
  },
  "language_info": {
   "codemirror_mode": {
    "name": "ipython",
    "version": 2
   },
   "file_extension": ".py",
   "mimetype": "text/x-python",
   "name": "python",
   "nbconvert_exporter": "python",
   "pygments_lexer": "ipython2",
   "version": "2.7.12"
  }
 },
 "nbformat": 4,
 "nbformat_minor": 1
}
