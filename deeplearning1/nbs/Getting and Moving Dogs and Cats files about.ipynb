{
 "cells": [
  {
   "cell_type": "code",
   "execution_count": 1,
   "metadata": {
    "collapsed": true
   },
   "outputs": [],
   "source": [
    "import os\n",
    "\n",
    "import random"
   ]
  },
  {
   "cell_type": "markdown",
   "metadata": {},
   "source": [
    "## Get the Kaggle Data\n",
    "\n",
    "### Run the Kaggle CLI tool and collect Cats vs Dogs"
   ]
  },
  {
   "cell_type": "code",
   "execution_count": 2,
   "metadata": {
    "collapsed": false
   },
   "outputs": [
    {
     "name": "stdout",
     "output_type": "stream",
     "text": [
      "mkdir: cannot create directory ‘data’: File exists\n",
      "mkdir: cannot create directory ‘dogscats’: File exists\n"
     ]
    }
   ],
   "source": [
    "if 'data' != os.getcwd().split('/')[-1]:\n",
    "    !mkdir data\n",
    "    os.chdir('data')\n",
    "\n",
    "if 'dogscats' != os.getcwd().split('/')[-1]:\n",
    "    !mkdir dogscats\n",
    "    os.chdir('dogscats')    "
   ]
  },
  {
   "cell_type": "code",
   "execution_count": 3,
   "metadata": {
    "collapsed": false,
    "scrolled": true
   },
   "outputs": [
    {
     "name": "stdout",
     "output_type": "stream",
     "text": [
      "Requirement already satisfied (use --upgrade to upgrade): kaggle-cli in /home/ubuntu/anaconda2/lib/python2.7/site-packages\n",
      "Requirement already satisfied (use --upgrade to upgrade): lxml in /home/ubuntu/anaconda2/lib/python2.7/site-packages (from kaggle-cli)\n",
      "Requirement already satisfied (use --upgrade to upgrade): configparser in /home/ubuntu/anaconda2/lib/python2.7/site-packages (from kaggle-cli)\n",
      "Requirement already satisfied (use --upgrade to upgrade): cliff in /home/ubuntu/anaconda2/lib/python2.7/site-packages (from kaggle-cli)\n",
      "Requirement already satisfied (use --upgrade to upgrade): progressbar2 in /home/ubuntu/anaconda2/lib/python2.7/site-packages (from kaggle-cli)\n",
      "Requirement already satisfied (use --upgrade to upgrade): cssselect in /home/ubuntu/anaconda2/lib/python2.7/site-packages (from kaggle-cli)\n",
      "Requirement already satisfied (use --upgrade to upgrade): MechanicalSoup in /home/ubuntu/anaconda2/lib/python2.7/site-packages (from kaggle-cli)\n",
      "Requirement already satisfied (use --upgrade to upgrade): pbr!=2.1.0,>=2.0.0 in /home/ubuntu/anaconda2/lib/python2.7/site-packages (from cliff->kaggle-cli)\n",
      "Requirement already satisfied (use --upgrade to upgrade): six>=1.9.0 in /home/ubuntu/anaconda2/lib/python2.7/site-packages (from cliff->kaggle-cli)\n",
      "Requirement already satisfied (use --upgrade to upgrade): PrettyTable<0.8,>=0.7.1 in /home/ubuntu/anaconda2/lib/python2.7/site-packages (from cliff->kaggle-cli)\n",
      "Requirement already satisfied (use --upgrade to upgrade): cmd2>=0.6.7 in /home/ubuntu/anaconda2/lib/python2.7/site-packages (from cliff->kaggle-cli)\n",
      "Requirement already satisfied (use --upgrade to upgrade): unicodecsv>=0.8.0; python_version < \"3.0\" in /home/ubuntu/anaconda2/lib/python2.7/site-packages (from cliff->kaggle-cli)\n",
      "Requirement already satisfied (use --upgrade to upgrade): PyYAML>=3.10.0 in /home/ubuntu/anaconda2/lib/python2.7/site-packages (from cliff->kaggle-cli)\n",
      "Requirement already satisfied (use --upgrade to upgrade): pyparsing>=2.1.0 in /home/ubuntu/anaconda2/lib/python2.7/site-packages (from cliff->kaggle-cli)\n",
      "Requirement already satisfied (use --upgrade to upgrade): stevedore>=1.20.0 in /home/ubuntu/anaconda2/lib/python2.7/site-packages (from cliff->kaggle-cli)\n",
      "Requirement already satisfied (use --upgrade to upgrade): python-utils>=2.1.0 in /home/ubuntu/anaconda2/lib/python2.7/site-packages (from progressbar2->kaggle-cli)\n",
      "Requirement already satisfied (use --upgrade to upgrade): beautifulsoup4 in /home/ubuntu/anaconda2/lib/python2.7/site-packages (from MechanicalSoup->kaggle-cli)\n",
      "Requirement already satisfied (use --upgrade to upgrade): requests>=2.0 in /home/ubuntu/anaconda2/lib/python2.7/site-packages (from MechanicalSoup->kaggle-cli)\n",
      "Requirement already satisfied (use --upgrade to upgrade): pyperclip in /home/ubuntu/anaconda2/lib/python2.7/site-packages (from cmd2>=0.6.7->cliff->kaggle-cli)\n",
      "\u001b[33mYou are using pip version 8.1.2, however version 9.0.1 is available.\n",
      "You should consider upgrading via the 'pip install --upgrade pip' command.\u001b[0m\n"
     ]
    }
   ],
   "source": [
    "!pip install kaggle-cli"
   ]
  },
  {
   "cell_type": "code",
   "execution_count": 21,
   "metadata": {
    "collapsed": false
   },
   "outputs": [
    {
     "name": "stdout",
     "output_type": "stream",
     "text": [
      "Starting new HTTPS connection (1): www.kaggle.com\n",
      "downloading https://www.kaggle.com/c/dogs-vs-cats-redux-kernels-edition/download/test.zip\n",
      "\n",
      "Starting new HTTPS connection (1): storage.googleapis.com\n",
      "test.zip 100% |######################################| Time: 0:00:08  32.2 MiB/s\n",
      "downloading https://www.kaggle.com/c/dogs-vs-cats-redux-kernels-edition/download/train.zip\n",
      "\n",
      "train.zip 100% |#####################################| Time: 0:00:17  31.6 MiB/s\n",
      "downloading https://www.kaggle.com/c/dogs-vs-cats-redux-kernels-edition/download/sample_submission.csv\n",
      "\n",
      "sample_submission.csv 100% |#########################| Time: 0:00:00 234.3 KiB/s\n"
     ]
    }
   ],
   "source": [
    "!kg download -c dogs-vs-cats-redux-kernels-edition"
   ]
  },
  {
   "cell_type": "code",
   "execution_count": 22,
   "metadata": {
    "collapsed": false
   },
   "outputs": [],
   "source": [
    "%%capture\n",
    "!unzip train.zip"
   ]
  },
  {
   "cell_type": "code",
   "execution_count": 23,
   "metadata": {
    "collapsed": false,
    "scrolled": true
   },
   "outputs": [],
   "source": [
    "%%capture\n",
    "!unzip test.zip"
   ]
  },
  {
   "cell_type": "markdown",
   "metadata": {},
   "source": [
    "## Split Train into Cats and Dogs"
   ]
  },
  {
   "cell_type": "code",
   "execution_count": 24,
   "metadata": {
    "collapsed": false
   },
   "outputs": [],
   "source": [
    "!mkdir train/cats\n",
    "!mkdir train/dogs"
   ]
  },
  {
   "cell_type": "code",
   "execution_count": 25,
   "metadata": {
    "collapsed": false
   },
   "outputs": [],
   "source": [
    "!mv train/cat.* train/cats"
   ]
  },
  {
   "cell_type": "code",
   "execution_count": 26,
   "metadata": {
    "collapsed": false
   },
   "outputs": [],
   "source": [
    "!mv train/dog.* train/dogs"
   ]
  },
  {
   "cell_type": "markdown",
   "metadata": {},
   "source": [
    "## Validation set prep\n",
    "\n",
    "For this, we want to remove a set of $n$ images from the kaggle provided image sets, and set them aside for model and parameter validation. We do this for both the cats and dogs set of images."
   ]
  },
  {
   "cell_type": "code",
   "execution_count": 27,
   "metadata": {
    "collapsed": false
   },
   "outputs": [
    {
     "name": "stdout",
     "output_type": "stream",
     "text": [
      "mkdir: cannot create directory ‘valid’: File exists\r\n"
     ]
    }
   ],
   "source": [
    "!mkdir valid"
   ]
  },
  {
   "cell_type": "code",
   "execution_count": 28,
   "metadata": {
    "collapsed": true
   },
   "outputs": [],
   "source": [
    "n = 1000"
   ]
  },
  {
   "cell_type": "markdown",
   "metadata": {},
   "source": [
    "### Cats"
   ]
  },
  {
   "cell_type": "code",
   "execution_count": 29,
   "metadata": {
    "collapsed": false
   },
   "outputs": [
    {
     "name": "stdout",
     "output_type": "stream",
     "text": [
      "mkdir: cannot create directory ‘valid/cats’: File exists\r\n"
     ]
    }
   ],
   "source": [
    "!mkdir valid/cats"
   ]
  },
  {
   "cell_type": "markdown",
   "metadata": {},
   "source": [
    "List the cat files"
   ]
  },
  {
   "cell_type": "code",
   "execution_count": 30,
   "metadata": {
    "collapsed": false
   },
   "outputs": [
    {
     "data": {
      "text/plain": [
       "['cat.0.jpg',\n",
       " 'cat.10000.jpg',\n",
       " 'cat.10001.jpg',\n",
       " 'cat.10002.jpg',\n",
       " 'cat.10003.jpg']"
      ]
     },
     "execution_count": 30,
     "metadata": {},
     "output_type": "execute_result"
    }
   ],
   "source": [
    "cats = !ls train/cats\n",
    "cats[:5]"
   ]
  },
  {
   "cell_type": "markdown",
   "metadata": {},
   "source": [
    "Sample the cat files"
   ]
  },
  {
   "cell_type": "code",
   "execution_count": 31,
   "metadata": {
    "collapsed": false
   },
   "outputs": [
    {
     "data": {
      "text/plain": [
       "['cat.5821.jpg',\n",
       " 'cat.9731.jpg',\n",
       " 'cat.8832.jpg',\n",
       " 'cat.5476.jpg',\n",
       " 'cat.9806.jpg']"
      ]
     },
     "execution_count": 31,
     "metadata": {},
     "output_type": "execute_result"
    }
   ],
   "source": [
    "random.sample(cats, n)[:5]"
   ]
  },
  {
   "cell_type": "markdown",
   "metadata": {},
   "source": [
    "Verify 1000 cat images are in valid/cats. If there aren't, move 1000 over to it."
   ]
  },
  {
   "cell_type": "code",
   "execution_count": 32,
   "metadata": {
    "collapsed": false
   },
   "outputs": [
    {
     "data": {
      "text/plain": [
       "1000"
      ]
     },
     "execution_count": 32,
     "metadata": {},
     "output_type": "execute_result"
    }
   ],
   "source": [
    "# bash command found here \n",
    "# https://stackoverflow.com/questions/11307257/is-there-a-bash-command-which-counts-files\n",
    "\n",
    "num_cat_images, = !ls -1q valid/cats | wc -l\n",
    "num_cat_images = int(num_cat_images)\n",
    "num_cat_images"
   ]
  },
  {
   "cell_type": "code",
   "execution_count": 33,
   "metadata": {
    "collapsed": false
   },
   "outputs": [],
   "source": [
    "if num_cat_images == 0:\n",
    "    for file_ in random.sample(cats, n):\n",
    "        !mv train/cats/$file_ valid/cats/$file_\n",
    "elif num_cat_images != n:\n",
    "    raise ValueError(' '.join(['Unexpected number of cats in valid/cats folder.', \n",
    "                               '\\nExpected', str(n), 'Got', str(num_cat_images)])\n",
    "                    )"
   ]
  },
  {
   "cell_type": "markdown",
   "metadata": {},
   "source": [
    "Verify 1000 are removed from train/cats. The original set of cat images contained 12500 cat images."
   ]
  },
  {
   "cell_type": "code",
   "execution_count": 34,
   "metadata": {
    "collapsed": false
   },
   "outputs": [
    {
     "name": "stdout",
     "output_type": "stream",
     "text": [
      "12500\r\n"
     ]
    }
   ],
   "source": [
    "!ls -1q train/cats/* | wc -l"
   ]
  },
  {
   "cell_type": "markdown",
   "metadata": {},
   "source": [
    "### Dogs"
   ]
  },
  {
   "cell_type": "code",
   "execution_count": 35,
   "metadata": {
    "collapsed": false
   },
   "outputs": [
    {
     "name": "stdout",
     "output_type": "stream",
     "text": [
      "mkdir: cannot create directory ‘valid/dogs’: File exists\r\n"
     ]
    }
   ],
   "source": [
    "!mkdir valid/dogs"
   ]
  },
  {
   "cell_type": "markdown",
   "metadata": {},
   "source": [
    "List, move and verify dog file moves"
   ]
  },
  {
   "cell_type": "code",
   "execution_count": 36,
   "metadata": {
    "collapsed": false
   },
   "outputs": [
    {
     "data": {
      "text/plain": [
       "1000"
      ]
     },
     "execution_count": 36,
     "metadata": {},
     "output_type": "execute_result"
    }
   ],
   "source": [
    "num_dog_images, = !ls -1q valid/dogs | wc -l\n",
    "num_dog_images = int(num_dog_images)\n",
    "num_dog_images"
   ]
  },
  {
   "cell_type": "code",
   "execution_count": 37,
   "metadata": {
    "collapsed": false
   },
   "outputs": [],
   "source": [
    "dogs = !ls train/dogs\n",
    "\n",
    "if num_dog_images == 0:\n",
    "    for file_ in random.sample(dogs, n):\n",
    "        !mv train/dogs/$file_ valid/dogs/$file_\n",
    "elif num_dog_images != n:\n",
    "    raise ValueError(' '.join(['Unexpected number of dogs in valid/dogs folder.', \n",
    "                               '\\nExpected', str(n), 'Got', str(num_cat_images)])\n",
    "                     )"
   ]
  },
  {
   "cell_type": "code",
   "execution_count": 38,
   "metadata": {
    "collapsed": false
   },
   "outputs": [
    {
     "name": "stdout",
     "output_type": "stream",
     "text": [
      "12500\r\n"
     ]
    }
   ],
   "source": [
    "!ls -1q train/dogs/* | wc -l"
   ]
  },
  {
   "cell_type": "markdown",
   "metadata": {},
   "source": [
    "### Sample set prep\n",
    "\n",
    "For this, we want $m$ images from training, which we use to interatively train our models. The smaller set allows us to move much quicker. These images can just be copied from the training set. "
   ]
  },
  {
   "cell_type": "code",
   "execution_count": 43,
   "metadata": {
    "collapsed": false
   },
   "outputs": [
    {
     "name": "stdout",
     "output_type": "stream",
     "text": [
      "mkdir: cannot create directory ‘sample’: File exists\n",
      "mkdir: cannot create directory ‘sample/train’: File exists\n",
      "mkdir: cannot create directory ‘sample/train/cats’: File exists\n",
      "mkdir: cannot create directory ‘sample/train/dogs’: File exists\n",
      "mkdir: cannot create directory ‘sample/test’: File exists\n"
     ]
    }
   ],
   "source": [
    "to_make_folders = ['sample', 'sample/train', 'sample/train/cats', 'sample/train/dogs', 'sample/test',\n",
    "                  'sample/valid', 'sample/valid/cats', 'sample/valid/dogs']\n",
    "\n",
    "for folder in to_make_folders:\n",
    "    !mkdir $folder"
   ]
  },
  {
   "cell_type": "code",
   "execution_count": 40,
   "metadata": {
    "collapsed": true
   },
   "outputs": [],
   "source": [
    "m = 100"
   ]
  },
  {
   "cell_type": "code",
   "execution_count": 52,
   "metadata": {
    "collapsed": false
   },
   "outputs": [
    {
     "name": "stdout",
     "output_type": "stream",
     "text": [
      "('dogs', 'train', '100', '12500')\n",
      "('dogs', 'valid', '100', '12500')\n",
      "('cats', 'train', '100', '12500')\n",
      "('cats', 'valid', '100', '12500')\n"
     ]
    }
   ],
   "source": [
    "for animal in ['dogs', 'cats']:\n",
    "    train_count, = !ls -1q train/$animal | wc -l\n",
    "    \n",
    "    for kind in ['train', 'valid']:\n",
    "        sample_count, = !ls -1q sample/$kind/$animal | wc -l\n",
    "        if int(sample_count) == 0:\n",
    "            animals = !ls train/$animal\n",
    "\n",
    "            for file_ in random.sample(animals, m):\n",
    "                !cp train/$animal/$file_ sample/$kind/$animal/$file_\n",
    "        elif int(sample_count) != m:\n",
    "            raise ValueError(' '.join(['Unexpected number of', animal, 'in sample folder.', \n",
    "                                   '\\nExpected', str(m), 'Got', str(sample_count)])\n",
    "                             )\n",
    "\n",
    "        print(animal, kind, sample_count, train_count)"
   ]
  },
  {
   "cell_type": "code",
   "execution_count": 53,
   "metadata": {
    "collapsed": false
   },
   "outputs": [
    {
     "name": "stdout",
     "output_type": "stream",
     "text": [
      "200\n"
     ]
    }
   ],
   "source": [
    "sample_test_count, = !ls -1q sample/test | wc -l\n",
    "\n",
    "if int(sample_test_count) == 0:\n",
    "    test_animals = !ls test\n",
    "\n",
    "    for file_ in random.sample(test_animals, 2*m):\n",
    "        !cp test/$file_ sample/test/$file_\n",
    "        \n",
    "elif int(sample_test_count) != 2*m:\n",
    "    raise ValueError(' '.join(['Unexpected number of test images in sample/test folder.', \n",
    "                           '\\nExpected', str(2*m), 'Got', str(sample_test_count)])\n",
    "                     )\n",
    "print(sample_test_count)"
   ]
  },
  {
   "cell_type": "code",
   "execution_count": null,
   "metadata": {
    "collapsed": true
   },
   "outputs": [],
   "source": []
  }
 ],
 "metadata": {
  "anaconda-cloud": {},
  "kernelspec": {
   "display_name": "Python [default]",
   "language": "python",
   "name": "python2"
  },
  "language_info": {
   "codemirror_mode": {
    "name": "ipython",
    "version": 2
   },
   "file_extension": ".py",
   "mimetype": "text/x-python",
   "name": "python",
   "nbconvert_exporter": "python",
   "pygments_lexer": "ipython2",
   "version": "2.7.12"
  }
 },
 "nbformat": 4,
 "nbformat_minor": 1
}
