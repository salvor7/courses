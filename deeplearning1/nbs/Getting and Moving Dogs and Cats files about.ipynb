{
 "cells": [
  {
   "cell_type": "code",
   "execution_count": 2,
   "metadata": {
    "collapsed": true
   },
   "outputs": [],
   "source": [
    "import os\n",
    "\n",
    "import random"
   ]
  },
  {
   "cell_type": "markdown",
   "metadata": {},
   "source": [
    "## Get the Kaggle Data\n",
    "\n",
    "### Run the Kaggle CLI tool and collect Cats vs Dogs"
   ]
  },
  {
   "cell_type": "code",
   "execution_count": 5,
   "metadata": {
    "collapsed": false
   },
   "outputs": [],
   "source": [
    "while 'nbs' != os.getcwd().split('/')[-1]:\n",
    "    os.chdir('..')\n",
    "\n",
    "try:\n",
    "    os.makedirs('data')\n",
    "except OSError:\n",
    "    pass\n",
    "os.chdir('data')\n",
    "\n",
    "try:\n",
    "    os.makedirs('dogscats')\n",
    "except OSError:\n",
    "    pass\n",
    "os.chdir('dogscats')    "
   ]
  },
  {
   "cell_type": "code",
   "execution_count": 3,
   "metadata": {
    "collapsed": false
   },
   "outputs": [
    {
     "name": "stdout",
     "output_type": "stream",
     "text": [
      "Requirement already satisfied: kaggle-cli in /home/salvor7/anaconda3/lib/python3.6/site-packages\n",
      "Requirement already satisfied: progressbar2 in /home/salvor7/anaconda3/lib/python3.6/site-packages (from kaggle-cli)\n",
      "Requirement already satisfied: configparser in /home/salvor7/anaconda3/lib/python3.6/site-packages (from kaggle-cli)\n",
      "Requirement already satisfied: MechanicalSoup in /home/salvor7/anaconda3/lib/python3.6/site-packages (from kaggle-cli)\n",
      "Requirement already satisfied: cssselect in /home/salvor7/anaconda3/lib/python3.6/site-packages (from kaggle-cli)\n",
      "Requirement already satisfied: cliff in /home/salvor7/anaconda3/lib/python3.6/site-packages (from kaggle-cli)\n",
      "Requirement already satisfied: lxml in /home/salvor7/anaconda3/lib/python3.6/site-packages (from kaggle-cli)\n",
      "Requirement already satisfied: python-utils>=2.1.0 in /home/salvor7/anaconda3/lib/python3.6/site-packages (from progressbar2->kaggle-cli)\n",
      "Requirement already satisfied: six>=1.4 in /home/salvor7/anaconda3/lib/python3.6/site-packages (from MechanicalSoup->kaggle-cli)\n",
      "Requirement already satisfied: beautifulsoup4 in /home/salvor7/anaconda3/lib/python3.6/site-packages (from MechanicalSoup->kaggle-cli)\n",
      "Requirement already satisfied: requests>=2.0 in /home/salvor7/anaconda3/lib/python3.6/site-packages (from MechanicalSoup->kaggle-cli)\n",
      "Requirement already satisfied: PrettyTable<0.8,>=0.7.1 in /home/salvor7/anaconda3/lib/python3.6/site-packages (from cliff->kaggle-cli)\n",
      "Requirement already satisfied: stevedore>=1.20.0 in /home/salvor7/anaconda3/lib/python3.6/site-packages (from cliff->kaggle-cli)\n",
      "Requirement already satisfied: cmd2>=0.6.7 in /home/salvor7/anaconda3/lib/python3.6/site-packages (from cliff->kaggle-cli)\n",
      "Requirement already satisfied: pbr!=2.1.0,>=2.0.0 in /home/salvor7/anaconda3/lib/python3.6/site-packages (from cliff->kaggle-cli)\n",
      "Requirement already satisfied: PyYAML>=3.10.0 in /home/salvor7/anaconda3/lib/python3.6/site-packages (from cliff->kaggle-cli)\n",
      "Requirement already satisfied: pyparsing>=2.1.0 in /home/salvor7/anaconda3/lib/python3.6/site-packages (from cliff->kaggle-cli)\n",
      "Requirement already satisfied: pyperclip in /home/salvor7/anaconda3/lib/python3.6/site-packages (from cmd2>=0.6.7->cliff->kaggle-cli)\n"
     ]
    }
   ],
   "source": [
    "!pip install kaggle-cli"
   ]
  },
  {
   "cell_type": "code",
   "execution_count": 4,
   "metadata": {
    "collapsed": false,
    "scrolled": true
   },
   "outputs": [
    {
     "name": "stdout",
     "output_type": "stream",
     "text": [
      "downloading https://www.kaggle.com/c/dogs-vs-cats-redux-kernels-edition/download/test.zip\n",
      "\n",
      "test.zip already downloaded !\n",
      "downloading https://www.kaggle.com/c/dogs-vs-cats-redux-kernels-edition/download/train.zip\n",
      "\n",
      "train.zip already downloaded !\n",
      "downloading https://www.kaggle.com/c/dogs-vs-cats-redux-kernels-edition/download/sample_submission.csv\n",
      "\n",
      "sample_submission.csv already downloaded !\n"
     ]
    }
   ],
   "source": [
    "!kg download -c dogs-vs-cats-redux-kernels-edition"
   ]
  },
  {
   "cell_type": "code",
   "execution_count": 7,
   "metadata": {
    "collapsed": true
   },
   "outputs": [],
   "source": [
    "%%capture\n",
    "!unzip train.zip"
   ]
  },
  {
   "cell_type": "code",
   "execution_count": 8,
   "metadata": {
    "collapsed": true,
    "scrolled": true
   },
   "outputs": [],
   "source": [
    "%%capture\n",
    "!unzip test.zip"
   ]
  },
  {
   "cell_type": "markdown",
   "metadata": {},
   "source": [
    "## Split Train into Cats and Dogs"
   ]
  },
  {
   "cell_type": "code",
   "execution_count": 9,
   "metadata": {
    "collapsed": true
   },
   "outputs": [],
   "source": [
    "!mkdir train/cats\n",
    "!mkdir train/dogs"
   ]
  },
  {
   "cell_type": "code",
   "execution_count": 10,
   "metadata": {
    "collapsed": true
   },
   "outputs": [],
   "source": [
    "!mv train/cat.* train/cats"
   ]
  },
  {
   "cell_type": "code",
   "execution_count": 11,
   "metadata": {
    "collapsed": true
   },
   "outputs": [],
   "source": [
    "!mv train/dog.* train/dogs"
   ]
  },
  {
   "cell_type": "markdown",
   "metadata": {},
   "source": [
    "## Validation set prep\n",
    "\n",
    "For this, we want to remove a set of $n$ images from the kaggle provided image sets, and set them aside for model and parameter validation. We do this for both the cats and dogs set of images."
   ]
  },
  {
   "cell_type": "code",
   "execution_count": 12,
   "metadata": {
    "collapsed": true
   },
   "outputs": [],
   "source": [
    "!mkdir valid"
   ]
  },
  {
   "cell_type": "code",
   "execution_count": 13,
   "metadata": {
    "collapsed": true
   },
   "outputs": [],
   "source": [
    "n = 1000"
   ]
  },
  {
   "cell_type": "markdown",
   "metadata": {},
   "source": [
    "### Cats"
   ]
  },
  {
   "cell_type": "code",
   "execution_count": 14,
   "metadata": {
    "collapsed": true
   },
   "outputs": [],
   "source": [
    "!mkdir valid/cats"
   ]
  },
  {
   "cell_type": "markdown",
   "metadata": {},
   "source": [
    "List the cat files"
   ]
  },
  {
   "cell_type": "code",
   "execution_count": 15,
   "metadata": {
    "collapsed": false
   },
   "outputs": [
    {
     "data": {
      "text/plain": [
       "['cat.0.jpg',\n",
       " 'cat.10000.jpg',\n",
       " 'cat.10001.jpg',\n",
       " 'cat.10002.jpg',\n",
       " 'cat.10003.jpg']"
      ]
     },
     "execution_count": 15,
     "metadata": {},
     "output_type": "execute_result"
    }
   ],
   "source": [
    "cats = !ls train/cats\n",
    "cats[:5]"
   ]
  },
  {
   "cell_type": "markdown",
   "metadata": {},
   "source": [
    "Sample the cat files"
   ]
  },
  {
   "cell_type": "code",
   "execution_count": 16,
   "metadata": {
    "collapsed": false
   },
   "outputs": [
    {
     "data": {
      "text/plain": [
       "['cat.7701.jpg',\n",
       " 'cat.8852.jpg',\n",
       " 'cat.4470.jpg',\n",
       " 'cat.315.jpg',\n",
       " 'cat.12063.jpg']"
      ]
     },
     "execution_count": 16,
     "metadata": {},
     "output_type": "execute_result"
    }
   ],
   "source": [
    "random.sample(cats, n)[:5]"
   ]
  },
  {
   "cell_type": "markdown",
   "metadata": {},
   "source": [
    "Verify 1000 cat images are in valid/cats. If there aren't, move 1000 over to it."
   ]
  },
  {
   "cell_type": "code",
   "execution_count": 17,
   "metadata": {
    "collapsed": false
   },
   "outputs": [
    {
     "data": {
      "text/plain": [
       "0"
      ]
     },
     "execution_count": 17,
     "metadata": {},
     "output_type": "execute_result"
    }
   ],
   "source": [
    "# bash command found here \n",
    "# https://stackoverflow.com/questions/11307257/is-there-a-bash-command-which-counts-files\n",
    "\n",
    "num_cat_images, = !ls -1q valid/cats | wc -l\n",
    "num_cat_images = int(num_cat_images)\n",
    "num_cat_images"
   ]
  },
  {
   "cell_type": "code",
   "execution_count": 18,
   "metadata": {
    "collapsed": true
   },
   "outputs": [],
   "source": [
    "if num_cat_images == 0:\n",
    "    for file_ in random.sample(cats, n):\n",
    "        !mv train/cats/$file_ valid/cats/$file_\n",
    "elif num_cat_images != n:\n",
    "    raise ValueError(' '.join(['Unexpected number of cats in valid/cats folder.', \n",
    "                               '\\nExpected', str(n), 'Got', str(num_cat_images)])\n",
    "                    )"
   ]
  },
  {
   "cell_type": "markdown",
   "metadata": {},
   "source": [
    "Verify 1000 are removed from train/cats. The original set of cat images contained 12500 cat images."
   ]
  },
  {
   "cell_type": "code",
   "execution_count": 19,
   "metadata": {
    "collapsed": false
   },
   "outputs": [
    {
     "name": "stdout",
     "output_type": "stream",
     "text": [
      "11500\r\n"
     ]
    }
   ],
   "source": [
    "!ls -1q train/cats/* | wc -l"
   ]
  },
  {
   "cell_type": "markdown",
   "metadata": {},
   "source": [
    "### Dogs"
   ]
  },
  {
   "cell_type": "code",
   "execution_count": 20,
   "metadata": {
    "collapsed": true
   },
   "outputs": [],
   "source": [
    "!mkdir valid/dogs"
   ]
  },
  {
   "cell_type": "markdown",
   "metadata": {},
   "source": [
    "List, move and verify dog file moves"
   ]
  },
  {
   "cell_type": "code",
   "execution_count": 21,
   "metadata": {
    "collapsed": false
   },
   "outputs": [
    {
     "data": {
      "text/plain": [
       "0"
      ]
     },
     "execution_count": 21,
     "metadata": {},
     "output_type": "execute_result"
    }
   ],
   "source": [
    "num_dog_images, = !ls -1q valid/dogs | wc -l\n",
    "num_dog_images = int(num_dog_images)\n",
    "num_dog_images"
   ]
  },
  {
   "cell_type": "code",
   "execution_count": 22,
   "metadata": {
    "collapsed": true
   },
   "outputs": [],
   "source": [
    "dogs = !ls train/dogs\n",
    "\n",
    "if num_dog_images == 0:\n",
    "    for file_ in random.sample(dogs, n):\n",
    "        !mv train/dogs/$file_ valid/dogs/$file_\n",
    "elif num_dog_images != n:\n",
    "    raise ValueError(' '.join(['Unexpected number of dogs in valid/dogs folder.', \n",
    "                               '\\nExpected', str(n), 'Got', str(num_cat_images)])\n",
    "                     )"
   ]
  },
  {
   "cell_type": "code",
   "execution_count": 23,
   "metadata": {
    "collapsed": false
   },
   "outputs": [
    {
     "name": "stdout",
     "output_type": "stream",
     "text": [
      "11500\r\n"
     ]
    }
   ],
   "source": [
    "!ls -1q train/dogs/* | wc -l"
   ]
  },
  {
   "cell_type": "markdown",
   "metadata": {},
   "source": [
    "### Sample set prep\n",
    "\n",
    "For this, we want $m$ images from training, which we use to interatively train our models. The smaller set allows us to move much quicker. These images can just be copied from the training set. "
   ]
  },
  {
   "cell_type": "code",
   "execution_count": 6,
   "metadata": {
    "collapsed": false
   },
   "outputs": [
    {
     "name": "stdout",
     "output_type": "stream",
     "text": [
      "mkdir: cannot create directory ‘sample’: File exists\n",
      "mkdir: cannot create directory ‘sample/train’: File exists\n",
      "mkdir: cannot create directory ‘sample/train/cats’: File exists\n",
      "mkdir: cannot create directory ‘sample/train/dogs’: File exists\n",
      "mkdir: cannot create directory ‘sample/test’: File exists\n",
      "mkdir: cannot create directory ‘sample/valid’: File exists\n",
      "mkdir: cannot create directory ‘sample/valid/cats’: File exists\n",
      "mkdir: cannot create directory ‘sample/valid/dogs’: File exists\n"
     ]
    }
   ],
   "source": [
    "to_make_folders = ['sample', 'sample/train', 'sample/train/cats', 'sample/train/dogs', 'sample/test',\n",
    "                  'sample/valid', 'sample/valid/cats', 'sample/valid/dogs']\n",
    "\n",
    "for folder in to_make_folders:\n",
    "    !mkdir $folder"
   ]
  },
  {
   "cell_type": "code",
   "execution_count": 7,
   "metadata": {
    "collapsed": true
   },
   "outputs": [],
   "source": [
    "m = 100"
   ]
  },
  {
   "cell_type": "code",
   "execution_count": 8,
   "metadata": {
    "collapsed": false
   },
   "outputs": [
    {
     "name": "stdout",
     "output_type": "stream",
     "text": [
      "('dogs', 'train', '100', '12500')\n",
      "('dogs', 'valid', '100', '12500')\n",
      "('cats', 'train', '100', '12500')\n",
      "('cats', 'valid', '100', '12500')\n"
     ]
    }
   ],
   "source": [
    "for animal in ['dogs', 'cats']:\n",
    "    train_count, = !ls -1q train/$animal | wc -l\n",
    "    \n",
    "    for kind in ['train', 'valid']:\n",
    "        sample_count, = !ls -1q sample/$kind/$animal | wc -l\n",
    "        print(animal, kind, sample_count, train_count)        \n",
    "        if int(sample_count) == 0:\n",
    "            animals = !ls train/$animal\n",
    "\n",
    "            for file_ in random.sample(animals, m):\n",
    "                !cp train/$animal/$file_ sample/$kind/$animal/$file_\n",
    "        elif int(sample_count) != m:\n",
    "            raise ValueError(' '.join(['Unexpected number of', animal, 'in sample folder.', \n",
    "                                   '\\nExpected', str(m), 'Got', str(sample_count)])\n",
    "                             )"
   ]
  },
  {
   "cell_type": "code",
   "execution_count": 9,
   "metadata": {
    "collapsed": false
   },
   "outputs": [
    {
     "name": "stdout",
     "output_type": "stream",
     "text": [
      "200\n"
     ]
    }
   ],
   "source": [
    "sample_test_count, = !ls -1q sample/test/unknown | wc -l\n",
    "print(sample_test_count)\n",
    "\n",
    "if int(sample_test_count) == 0:\n",
    "    test_animals = !ls test\n",
    "\n",
    "    for file_ in random.sample(test_animals, 2*m):\n",
    "        !cp test/$file_ sample/test/unknown/$file_\n",
    "        \n",
    "elif int(sample_test_count) != 2*m:\n",
    "    raise ValueError(' '.join(['Unexpected number of test images in sample/test folder.', \n",
    "                           '\\nExpected', str(2*m), 'Got', str(sample_test_count)])\n",
    "                     )"
   ]
  },
  {
   "cell_type": "code",
   "execution_count": null,
   "metadata": {
    "collapsed": true
   },
   "outputs": [],
   "source": []
  }
 ],
 "metadata": {
  "anaconda-cloud": {},
  "kernelspec": {
   "display_name": "Python [conda root]",
   "language": "python",
   "name": "conda-root-py"
  },
  "language_info": {
   "codemirror_mode": {
    "name": "ipython",
    "version": 2
   },
   "file_extension": ".py",
   "mimetype": "text/x-python",
   "name": "python",
   "nbconvert_exporter": "python",
   "pygments_lexer": "ipython2",
   "version": "2.7.12"
  }
 },
 "nbformat": 4,
 "nbformat_minor": 1
}
